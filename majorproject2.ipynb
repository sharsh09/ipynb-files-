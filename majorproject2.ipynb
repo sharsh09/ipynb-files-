{
  "nbformat": 4,
  "nbformat_minor": 0,
  "metadata": {
    "colab": {
      "provenance": [],
      "include_colab_link": true
    },
    "kernelspec": {
      "name": "python3",
      "display_name": "Python 3"
    },
    "language_info": {
      "name": "python"
    }
  },
  "cells": [
    {
      "cell_type": "markdown",
      "metadata": {
        "id": "view-in-github",
        "colab_type": "text"
      },
      "source": [
        "<a href=\"https://colab.research.google.com/github/sharsh09/project-reports/blob/main/majorproject2.ipynb\" target=\"_parent\"><img src=\"https://colab.research.google.com/assets/colab-badge.svg\" alt=\"Open In Colab\"/></a>"
      ]
    },
    {
      "cell_type": "code",
      "source": [
        "#UNSUPERVISED LEARNING -CLUSTERING -  K MEANS CLUSTERING\n",
        "#IN CLUSTERING - THERE IS NO y(OUTPUT),we only consider i/p to train our model."
      ],
      "metadata": {
        "id": "l6NNJjuYo-nw"
      },
      "execution_count": null,
      "outputs": []
    },
    {
      "cell_type": "code",
      "source": [
        "#1.take data and create dataframe\n",
        "import pandas as pd\n",
        "data = pd.read_csv('/content/segmentation data.csv')\n",
        "df = pd.DataFrame(data, columns=['ID', 'Sex',\t'Age', 'Income', 'Settlement size'])\n",
        "df"
      ],
      "metadata": {
        "colab": {
          "base_uri": "https://localhost:8080/",
          "height": 424
        },
        "id": "a38YcQNMo_do",
        "outputId": "1b6af8cb-8e97-460f-c228-cd6b63502146"
      },
      "execution_count": null,
      "outputs": [
        {
          "output_type": "execute_result",
          "data": {
            "text/plain": [
              "             ID  Sex  Age  Income  Settlement size\n",
              "0     100000001    0   67  124670                2\n",
              "1     100000002    1   22  150773                2\n",
              "2     100000003    0   49   89210                0\n",
              "3     100000004    0   45  171565                1\n",
              "4     100000005    0   53  149031                1\n",
              "...         ...  ...  ...     ...              ...\n",
              "1995  100001996    1   47  123525                0\n",
              "1996  100001997    1   27  117744                0\n",
              "1997  100001998    0   31   86400                0\n",
              "1998  100001999    1   24   97968                0\n",
              "1999  100002000    0   25   68416                0\n",
              "\n",
              "[2000 rows x 5 columns]"
            ],
            "text/html": [
              "\n",
              "  <div id=\"df-d86c9591-fbd4-4faf-8303-32ad2d1f5df5\">\n",
              "    <div class=\"colab-df-container\">\n",
              "      <div>\n",
              "<style scoped>\n",
              "    .dataframe tbody tr th:only-of-type {\n",
              "        vertical-align: middle;\n",
              "    }\n",
              "\n",
              "    .dataframe tbody tr th {\n",
              "        vertical-align: top;\n",
              "    }\n",
              "\n",
              "    .dataframe thead th {\n",
              "        text-align: right;\n",
              "    }\n",
              "</style>\n",
              "<table border=\"1\" class=\"dataframe\">\n",
              "  <thead>\n",
              "    <tr style=\"text-align: right;\">\n",
              "      <th></th>\n",
              "      <th>ID</th>\n",
              "      <th>Sex</th>\n",
              "      <th>Age</th>\n",
              "      <th>Income</th>\n",
              "      <th>Settlement size</th>\n",
              "    </tr>\n",
              "  </thead>\n",
              "  <tbody>\n",
              "    <tr>\n",
              "      <th>0</th>\n",
              "      <td>100000001</td>\n",
              "      <td>0</td>\n",
              "      <td>67</td>\n",
              "      <td>124670</td>\n",
              "      <td>2</td>\n",
              "    </tr>\n",
              "    <tr>\n",
              "      <th>1</th>\n",
              "      <td>100000002</td>\n",
              "      <td>1</td>\n",
              "      <td>22</td>\n",
              "      <td>150773</td>\n",
              "      <td>2</td>\n",
              "    </tr>\n",
              "    <tr>\n",
              "      <th>2</th>\n",
              "      <td>100000003</td>\n",
              "      <td>0</td>\n",
              "      <td>49</td>\n",
              "      <td>89210</td>\n",
              "      <td>0</td>\n",
              "    </tr>\n",
              "    <tr>\n",
              "      <th>3</th>\n",
              "      <td>100000004</td>\n",
              "      <td>0</td>\n",
              "      <td>45</td>\n",
              "      <td>171565</td>\n",
              "      <td>1</td>\n",
              "    </tr>\n",
              "    <tr>\n",
              "      <th>4</th>\n",
              "      <td>100000005</td>\n",
              "      <td>0</td>\n",
              "      <td>53</td>\n",
              "      <td>149031</td>\n",
              "      <td>1</td>\n",
              "    </tr>\n",
              "    <tr>\n",
              "      <th>...</th>\n",
              "      <td>...</td>\n",
              "      <td>...</td>\n",
              "      <td>...</td>\n",
              "      <td>...</td>\n",
              "      <td>...</td>\n",
              "    </tr>\n",
              "    <tr>\n",
              "      <th>1995</th>\n",
              "      <td>100001996</td>\n",
              "      <td>1</td>\n",
              "      <td>47</td>\n",
              "      <td>123525</td>\n",
              "      <td>0</td>\n",
              "    </tr>\n",
              "    <tr>\n",
              "      <th>1996</th>\n",
              "      <td>100001997</td>\n",
              "      <td>1</td>\n",
              "      <td>27</td>\n",
              "      <td>117744</td>\n",
              "      <td>0</td>\n",
              "    </tr>\n",
              "    <tr>\n",
              "      <th>1997</th>\n",
              "      <td>100001998</td>\n",
              "      <td>0</td>\n",
              "      <td>31</td>\n",
              "      <td>86400</td>\n",
              "      <td>0</td>\n",
              "    </tr>\n",
              "    <tr>\n",
              "      <th>1998</th>\n",
              "      <td>100001999</td>\n",
              "      <td>1</td>\n",
              "      <td>24</td>\n",
              "      <td>97968</td>\n",
              "      <td>0</td>\n",
              "    </tr>\n",
              "    <tr>\n",
              "      <th>1999</th>\n",
              "      <td>100002000</td>\n",
              "      <td>0</td>\n",
              "      <td>25</td>\n",
              "      <td>68416</td>\n",
              "      <td>0</td>\n",
              "    </tr>\n",
              "  </tbody>\n",
              "</table>\n",
              "<p>2000 rows × 5 columns</p>\n",
              "</div>\n",
              "      <button class=\"colab-df-convert\" onclick=\"convertToInteractive('df-d86c9591-fbd4-4faf-8303-32ad2d1f5df5')\"\n",
              "              title=\"Convert this dataframe to an interactive table.\"\n",
              "              style=\"display:none;\">\n",
              "        \n",
              "  <svg xmlns=\"http://www.w3.org/2000/svg\" height=\"24px\"viewBox=\"0 0 24 24\"\n",
              "       width=\"24px\">\n",
              "    <path d=\"M0 0h24v24H0V0z\" fill=\"none\"/>\n",
              "    <path d=\"M18.56 5.44l.94 2.06.94-2.06 2.06-.94-2.06-.94-.94-2.06-.94 2.06-2.06.94zm-11 1L8.5 8.5l.94-2.06 2.06-.94-2.06-.94L8.5 2.5l-.94 2.06-2.06.94zm10 10l.94 2.06.94-2.06 2.06-.94-2.06-.94-.94-2.06-.94 2.06-2.06.94z\"/><path d=\"M17.41 7.96l-1.37-1.37c-.4-.4-.92-.59-1.43-.59-.52 0-1.04.2-1.43.59L10.3 9.45l-7.72 7.72c-.78.78-.78 2.05 0 2.83L4 21.41c.39.39.9.59 1.41.59.51 0 1.02-.2 1.41-.59l7.78-7.78 2.81-2.81c.8-.78.8-2.07 0-2.86zM5.41 20L4 18.59l7.72-7.72 1.47 1.35L5.41 20z\"/>\n",
              "  </svg>\n",
              "      </button>\n",
              "      \n",
              "  <style>\n",
              "    .colab-df-container {\n",
              "      display:flex;\n",
              "      flex-wrap:wrap;\n",
              "      gap: 12px;\n",
              "    }\n",
              "\n",
              "    .colab-df-convert {\n",
              "      background-color: #E8F0FE;\n",
              "      border: none;\n",
              "      border-radius: 50%;\n",
              "      cursor: pointer;\n",
              "      display: none;\n",
              "      fill: #1967D2;\n",
              "      height: 32px;\n",
              "      padding: 0 0 0 0;\n",
              "      width: 32px;\n",
              "    }\n",
              "\n",
              "    .colab-df-convert:hover {\n",
              "      background-color: #E2EBFA;\n",
              "      box-shadow: 0px 1px 2px rgba(60, 64, 67, 0.3), 0px 1px 3px 1px rgba(60, 64, 67, 0.15);\n",
              "      fill: #174EA6;\n",
              "    }\n",
              "\n",
              "    [theme=dark] .colab-df-convert {\n",
              "      background-color: #3B4455;\n",
              "      fill: #D2E3FC;\n",
              "    }\n",
              "\n",
              "    [theme=dark] .colab-df-convert:hover {\n",
              "      background-color: #434B5C;\n",
              "      box-shadow: 0px 1px 3px 1px rgba(0, 0, 0, 0.15);\n",
              "      filter: drop-shadow(0px 1px 2px rgba(0, 0, 0, 0.3));\n",
              "      fill: #FFFFFF;\n",
              "    }\n",
              "  </style>\n",
              "\n",
              "      <script>\n",
              "        const buttonEl =\n",
              "          document.querySelector('#df-d86c9591-fbd4-4faf-8303-32ad2d1f5df5 button.colab-df-convert');\n",
              "        buttonEl.style.display =\n",
              "          google.colab.kernel.accessAllowed ? 'block' : 'none';\n",
              "\n",
              "        async function convertToInteractive(key) {\n",
              "          const element = document.querySelector('#df-d86c9591-fbd4-4faf-8303-32ad2d1f5df5');\n",
              "          const dataTable =\n",
              "            await google.colab.kernel.invokeFunction('convertToInteractive',\n",
              "                                                     [key], {});\n",
              "          if (!dataTable) return;\n",
              "\n",
              "          const docLinkHtml = 'Like what you see? Visit the ' +\n",
              "            '<a target=\"_blank\" href=https://colab.research.google.com/notebooks/data_table.ipynb>data table notebook</a>'\n",
              "            + ' to learn more about interactive tables.';\n",
              "          element.innerHTML = '';\n",
              "          dataTable['output_type'] = 'display_data';\n",
              "          await google.colab.output.renderOutput(dataTable, element);\n",
              "          const docLink = document.createElement('div');\n",
              "          docLink.innerHTML = docLinkHtml;\n",
              "          element.appendChild(docLink);\n",
              "        }\n",
              "      </script>\n",
              "    </div>\n",
              "  </div>\n",
              "  "
            ]
          },
          "metadata": {},
          "execution_count": 4
        }
      ]
    },
    {
      "cell_type": "code",
      "source": [
        "df.shape"
      ],
      "metadata": {
        "colab": {
          "base_uri": "https://localhost:8080/"
        },
        "id": "jpIsNbHyrWSA",
        "outputId": "42c58554-8cac-4bee-a771-562032a9eee1"
      },
      "execution_count": null,
      "outputs": [
        {
          "output_type": "execute_result",
          "data": {
            "text/plain": [
              "(2000, 5)"
            ]
          },
          "metadata": {},
          "execution_count": 5
        }
      ]
    },
    {
      "cell_type": "code",
      "source": [
        "df.info()"
      ],
      "metadata": {
        "colab": {
          "base_uri": "https://localhost:8080/"
        },
        "id": "4wIzKDyCrZ7B",
        "outputId": "946058c1-32b8-406e-8a22-ef52dd890b6f"
      },
      "execution_count": null,
      "outputs": [
        {
          "output_type": "stream",
          "name": "stdout",
          "text": [
            "<class 'pandas.core.frame.DataFrame'>\n",
            "RangeIndex: 2000 entries, 0 to 1999\n",
            "Data columns (total 5 columns):\n",
            " #   Column           Non-Null Count  Dtype\n",
            "---  ------           --------------  -----\n",
            " 0   ID               2000 non-null   int64\n",
            " 1   Sex              2000 non-null   int64\n",
            " 2   Age              2000 non-null   int64\n",
            " 3   Income           2000 non-null   int64\n",
            " 4   Settlement size  2000 non-null   int64\n",
            "dtypes: int64(5)\n",
            "memory usage: 78.2 KB\n"
          ]
        }
      ]
    },
    {
      "cell_type": "code",
      "source": [
        "#Input - Age and Annual Income\n",
        "#4.divide the into i/p\n",
        "x = df.iloc[:,2:4].values\n",
        "x"
      ],
      "metadata": {
        "colab": {
          "base_uri": "https://localhost:8080/"
        },
        "id": "HLGAqPwCriR_",
        "outputId": "7694e392-1cb0-4a19-af29-4e5ff7d34287"
      },
      "execution_count": null,
      "outputs": [
        {
          "output_type": "execute_result",
          "data": {
            "text/plain": [
              "array([[    67, 124670],\n",
              "       [    22, 150773],\n",
              "       [    49,  89210],\n",
              "       ...,\n",
              "       [    31,  86400],\n",
              "       [    24,  97968],\n",
              "       [    25,  68416]])"
            ]
          },
          "metadata": {},
          "execution_count": 34
        }
      ]
    },
    {
      "cell_type": "code",
      "source": [
        "#VISUALISATION\n",
        "import matplotlib.pyplot as plt\n",
        "plt.scatter(df['Income'],df['Age'])\n",
        "#Here we have got only one cluster before applying any clustering technique"
      ],
      "metadata": {
        "colab": {
          "base_uri": "https://localhost:8080/",
          "height": 282
        },
        "id": "7xGbZ5Q6svT5",
        "outputId": "944ccc04-2111-4a25-d415-ee3c3efc9322"
      },
      "execution_count": null,
      "outputs": [
        {
          "output_type": "execute_result",
          "data": {
            "text/plain": [
              "<matplotlib.collections.PathCollection at 0x7faffb262310>"
            ]
          },
          "metadata": {},
          "execution_count": 36
        },
        {
          "output_type": "display_data",
          "data": {
            "text/plain": [
              "<Figure size 432x288 with 1 Axes>"
            ],
            "image/png": "[encoded data removed]"
          },
          "metadata": {
            "needs_background": "light"
          }
        }
      ]
    },
    {
      "cell_type": "code",
      "source": [
        "#Here our main task is to find out the number of clusters(k)\n",
        "import numpy as np\n",
        "np.sqrt(2000) # 2000 is the total no of points\n",
        "#k value should not exceed the square root of the total no of points\n",
        "#Hence k value should be in the range of 2 to 45"
      ],
      "metadata": {
        "colab": {
          "base_uri": "https://localhost:8080/"
        },
        "id": "8Nmw2WiBs_q-",
        "outputId": "ab4a27d5-7973-4e14-f28a-cfdab563fc40"
      },
      "execution_count": null,
      "outputs": [
        {
          "output_type": "execute_result",
          "data": {
            "text/plain": [
              "44.721359549995796"
            ]
          },
          "metadata": {},
          "execution_count": 37
        }
      ]
    },
    {
      "cell_type": "code",
      "source": [
        "#1.ELBOW METHOD\n",
        "from sklearn.cluster import KMeans\n",
        "k = range(2,45)# my range is in between 2 and 45\n",
        "\n",
        "sse = [] #blank list\n",
        "\n",
        "#for i in range(2,45):\n",
        "for i in k :\n",
        "  model_demo = KMeans(n_clusters = i,random_state = 0)\n",
        "  model_demo.fit(x)\n",
        "  sse.append(model_demo.inertia_)#.inertia_ - calculates the sum of squared error\n",
        "plt.scatter(k,sse)\n",
        "plt.plot(k,sse)"
      ],
      "metadata": {
        "colab": {
          "base_uri": "https://localhost:8080/",
          "height": 293
        },
        "id": "3F1c_SPV2T3K",
        "outputId": "f4a25f50-5145-4bc2-f110-6a9e791dfcc3"
      },
      "execution_count": null,
      "outputs": [
        {
          "output_type": "execute_result",
          "data": {
            "text/plain": [
              "[<matplotlib.lines.Line2D at 0x7faffb1d2790>]"
            ]
          },
          "metadata": {},
          "execution_count": 38
        },
        {
          "output_type": "display_data",
          "data": {
            "text/plain": [
              "<Figure size 432x288 with 1 Axes>"
            ],
            "image/png": "[encoded data removed]"
          },
          "metadata": {
            "needs_background": "light"
          }
        }
      ]
    },
    {
      "cell_type": "code",
      "source": [
        "#We will now consider the point at which the eblow is more prominent(projecting from something)\n",
        "# We will consider k as 7 for now , but we are not sure"
      ],
      "metadata": {
        "id": "MwMJAMQ12wRt"
      },
      "execution_count": null,
      "outputs": []
    },
    {
      "cell_type": "code",
      "source": [
        "#2.SILHOUETTE SCORE METHOD\n",
        "from sklearn.metrics import silhouette_score\n",
        "k = range(2,45)\n",
        "for i in k:\n",
        "  model_demo = KMeans(n_clusters = i,random_state = 0)\n",
        "  model_demo.fit(x)\n",
        "  y_pred = model_demo.predict(x)\n",
        "  print(f\"{i} Clusters ,Score = {silhouette_score(x,y_pred)}\")\n",
        "  plt.bar(i,silhouette_score(x,y_pred))\n"
      ],
      "metadata": {
        "colab": {
          "base_uri": "https://localhost:8080/",
          "height": 1000
        },
        "id": "1ku5YmSy29of",
        "outputId": "be414faa-60e2-4da0-d51d-2efbfbb07d96"
      },
      "execution_count": null,
      "outputs": [
        {
          "output_type": "stream",
          "name": "stdout",
          "text": [
            "2 Clusters ,Score = 0.5834469068936822\n",
            "3 Clusters ,Score = 0.5116316441491894\n",
            "4 Clusters ,Score = 0.54299218077665\n",
            "5 Clusters ,Score = 0.5401520680025738\n",
            "6 Clusters ,Score = 0.5425446774454399\n",
            "7 Clusters ,Score = 0.5352530115610864\n",
            "8 Clusters ,Score = 0.5407443028572397\n",
            "9 Clusters ,Score = 0.5331090406504704\n",
            "10 Clusters ,Score = 0.5316509306525833\n",
            "11 Clusters ,Score = 0.5346461939922239\n",
            "12 Clusters ,Score = 0.546748013211452\n",
            "13 Clusters ,Score = 0.5447936152017392\n",
            "14 Clusters ,Score = 0.5383651685808202\n",
            "15 Clusters ,Score = 0.5427850042355558\n",
            "16 Clusters ,Score = 0.5361798352934857\n",
            "17 Clusters ,Score = 0.5382544228749134\n",
            "18 Clusters ,Score = 0.5388886232322623\n",
            "19 Clusters ,Score = 0.5377919516079881\n",
            "20 Clusters ,Score = 0.5377240901750185\n",
            "21 Clusters ,Score = 0.5442144342062256\n",
            "22 Clusters ,Score = 0.5417168708667498\n",
            "23 Clusters ,Score = 0.5443968718435994\n",
            "24 Clusters ,Score = 0.5446904834769162\n",
            "25 Clusters ,Score = 0.5387989753137833\n",
            "26 Clusters ,Score = 0.533493932872274\n",
            "27 Clusters ,Score = 0.5350267247684498\n",
            "28 Clusters ,Score = 0.538942955879104\n",
            "29 Clusters ,Score = 0.5314610767703005\n",
            "30 Clusters ,Score = 0.5457561846384562\n",
            "31 Clusters ,Score = 0.54033813005907\n",
            "32 Clusters ,Score = 0.546514324259334\n",
            "33 Clusters ,Score = 0.5473617224826287\n",
            "34 Clusters ,Score = 0.5453154143947548\n",
            "35 Clusters ,Score = 0.5374254054900658\n",
            "36 Clusters ,Score = 0.5424415889395845\n",
            "37 Clusters ,Score = 0.5428894570784082\n",
            "38 Clusters ,Score = 0.5377151746685831\n",
            "39 Clusters ,Score = 0.5441584908541304\n",
            "40 Clusters ,Score = 0.5455518774893595\n",
            "41 Clusters ,Score = 0.546018914770708\n",
            "42 Clusters ,Score = 0.5343244917777215\n",
            "43 Clusters ,Score = 0.5390358089729894\n",
            "44 Clusters ,Score = 0.5346308270140177\n"
          ]
        },
        {
          "output_type": "display_data",
          "data": {
            "text/plain": [
              "<Figure size 432x288 with 1 Axes>"
            ],
            "image/png": "[encoded data removed]"
          },
          "metadata": {
            "needs_background": "light"
          }
        }
      ]
    },
    {
      "cell_type": "code",
      "source": [
        "#CONFIRMATION : THE No of CLUSTERS TO BE CONSIDERED IS 2 not 7."
      ],
      "metadata": {
        "id": "uAmo0AMF38PV"
      },
      "execution_count": null,
      "outputs": []
    },
    {
      "cell_type": "code",
      "source": [
        "#7.APPLY CLUSTERER\n",
        "k = 2\n",
        "from sklearn.cluster import KMeans\n",
        "\n",
        "model = KMeans(n_clusters = k,random_state = 0)\n",
        "model.fit(x)"
      ],
      "metadata": {
        "colab": {
          "base_uri": "https://localhost:8080/"
        },
        "id": "xHmIqRxx4TXZ",
        "outputId": "f4e07bba-331e-45ed-e54d-9f5e73d179d6"
      },
      "execution_count": null,
      "outputs": [
        {
          "output_type": "execute_result",
          "data": {
            "text/plain": [
              "KMeans(n_clusters=2, random_state=0)"
            ]
          },
          "metadata": {},
          "execution_count": 41
        }
      ]
    },
    {
      "cell_type": "code",
      "source": [
        "y = model.predict(x) # predicted output\n",
        "y"
      ],
      "metadata": {
        "colab": {
          "base_uri": "https://localhost:8080/"
        },
        "id": "qyT72Zdv4nOT",
        "outputId": "c60d6898-d2f8-4538-9876-af802cc28dbd"
      },
      "execution_count": null,
      "outputs": [
        {
          "output_type": "execute_result",
          "data": {
            "text/plain": [
              "array([0, 1, 0, ..., 0, 0, 0], dtype=int32)"
            ]
          },
          "metadata": {},
          "execution_count": 42
        }
      ]
    },
    {
      "cell_type": "code",
      "source": [
        "y.size"
      ],
      "metadata": {
        "colab": {
          "base_uri": "https://localhost:8080/"
        },
        "id": "5YgpcF7_4ws7",
        "outputId": "6f69c75a-6d63-446d-e232-5ed3f91106ca"
      },
      "execution_count": null,
      "outputs": [
        {
          "output_type": "execute_result",
          "data": {
            "text/plain": [
              "2000"
            ]
          },
          "metadata": {},
          "execution_count": 43
        }
      ]
    },
    {
      "cell_type": "code",
      "source": [
        "x[y == 1,1]\n",
        "#so the first '1' is cluster no 1 and the second '1' is column index 1 \n",
        "#the value of input,when cluster 1 is selected and column index 1 selected"
      ],
      "metadata": {
        "colab": {
          "base_uri": "https://localhost:8080/"
        },
        "id": "VJRktv0D4y5j",
        "outputId": "3ec56561-7d7c-4e3c-8c36-f377407c9393"
      },
      "execution_count": null,
      "outputs": [
        {
          "output_type": "execute_result",
          "data": {
            "text/plain": [
              "array([150773, 171565, 149031, 144848, 156495, 193621, 151591, 174646,\n",
              "       157434, 261952, 144657, 147511, 163025, 175882, 159646, 162745,\n",
              "       155569, 143385, 163329, 155104, 142335, 138387, 140182, 180196,\n",
              "       202575, 183657, 152267, 166410, 227385, 148115, 139780, 169102,\n",
              "       141858, 140888, 157299, 155486, 151697, 159246, 241068, 149022,\n",
              "       165230, 268340, 195465, 244716, 183108, 152876, 165147, 140520,\n",
              "       162445, 189896, 153539, 180495, 166933, 143979, 176714, 149249,\n",
              "       194728, 204723, 176057, 144332, 140665, 152383, 153286, 214204,\n",
              "       208101, 146529, 224998, 141116, 147687, 153031, 211229, 177291,\n",
              "       168763, 176645, 214364, 217651, 147626, 175223, 137467, 222294,\n",
              "       157940, 150699, 178967, 236264, 207783, 139157, 167076, 141270,\n",
              "       169617, 149237, 215150, 244541, 175367, 144884, 151180, 152308,\n",
              "       167945, 210017, 214620, 193816, 168714, 202997, 192451, 161379,\n",
              "       146117, 219319, 144701, 146349, 141825, 165190, 145059, 148363,\n",
              "       154778, 149356, 145670, 213333, 209856, 181003, 160650, 150372,\n",
              "       149851, 167939, 145933, 151312, 141847, 153586, 170146, 144597,\n",
              "       272314, 309364, 170386, 281923, 260977, 201699, 139868, 152302,\n",
              "       137827, 220923, 165717, 164559, 171860, 139414, 187549, 145508,\n",
              "       144004, 166763, 175530, 154134, 145896, 148226, 230883, 149465,\n",
              "       139198, 178947, 172639, 175740, 220050, 143552, 145946, 162180,\n",
              "       138327, 155012, 147402, 187835, 140741, 148100, 152620, 219451,\n",
              "       222360, 146237, 144461, 156374, 205383, 221842, 160513, 153861,\n",
              "       147967, 170622, 169405, 170113, 140285, 198029, 145689, 172957,\n",
              "       157376, 171052, 138256, 217450, 173751, 152371, 139905, 156700,\n",
              "       147472, 169991, 159052, 151580, 192481, 155122, 162955, 254449,\n",
              "       208446, 139379, 154521, 227021, 179790, 158147, 201656, 223630,\n",
              "       187647, 138952, 162772, 172153, 170184, 140795, 144456, 153353,\n",
              "       223018, 161323, 158421, 149545, 171857, 149782, 160279, 138752,\n",
              "       158197, 157473, 149306, 139236, 173124, 164621, 148566, 150465,\n",
              "       255198, 183178, 169314, 147958, 139896, 184753, 162521, 156794,\n",
              "       154919, 235417, 190803, 250050, 142438, 159303, 162591, 235660,\n",
              "       194461, 150158, 215639, 166712, 166988, 212020, 144589, 168637,\n",
              "       139119, 183312, 149510, 141922, 172790, 168147, 231992, 171584,\n",
              "       190518, 152367, 279593, 157272, 177509, 163451, 144900, 196568,\n",
              "       158405, 138644, 179151, 200298, 177757, 139477, 160642, 199711,\n",
              "       161194, 137342, 153441, 195328, 190413, 145313, 237799, 180617,\n",
              "       167019, 147745, 151803, 200621, 144448, 150797, 194084, 146463,\n",
              "       308491, 287247, 153223, 268906, 172909, 189963, 154854, 145800,\n",
              "       162869, 192379, 159757, 207262, 143082, 147760, 164915, 223185,\n",
              "       194882, 137932, 174424, 154991, 158769, 139641, 188594, 162827,\n",
              "       178991, 159739, 167763, 145174, 176292, 151938, 161999, 147968,\n",
              "       157576, 203738, 280570, 214126, 174337, 167139, 170113, 192698,\n",
              "       144197, 171052, 171804, 192167, 146716, 267872, 142193, 183765,\n",
              "       218664, 145174, 224961, 262634, 287106, 166298, 281084, 160678,\n",
              "       167532, 178591, 273063, 149410, 153645, 308529, 155062, 199654,\n",
              "       157595, 166264, 147259, 161116, 139380, 213768, 163940, 173378,\n",
              "       166712, 189166, 161714, 214364, 184680, 214732, 152527, 170366,\n",
              "       194532, 159880, 165519, 149653, 159378, 205476, 280566, 211572,\n",
              "       176372, 169020, 169324, 192561, 145781, 169002, 170644, 192360,\n",
              "       260847, 285647, 164816, 281647, 157305, 163654, 155540, 154031,\n",
              "       164931, 168904, 137576, 180940, 138011, 144850, 137338, 159745,\n",
              "       181262, 169044, 178549, 159716, 170118, 143886, 160524, 143994,\n",
              "       152401, 157453, 142870, 145385, 146519, 149419, 176646, 169579,\n",
              "       142305, 181926, 152864, 182274, 149040, 154196, 177171, 159559,\n",
              "       171203, 139844, 156431, 143081, 155870, 145227, 159500, 159714,\n",
              "       141271, 143723, 154003, 177179, 182822, 177215, 157231, 151421,\n",
              "       178081, 154585, 144704, 141632, 160164, 151754, 155551, 175800,\n",
              "       169076, 140341, 151781, 158683, 193879, 151947, 141493, 154339,\n",
              "       158193, 143734, 175504, 165495, 165340, 154344, 151914, 139490,\n",
              "       155708, 142345, 148675, 150237, 159216, 139547, 154549, 149315,\n",
              "       138906, 151339, 170387, 139427, 137925, 144843, 139112, 147603,\n",
              "       139229, 143321, 147691, 143489, 139468, 141502, 137689, 137705,\n",
              "       137736, 143319, 145231, 145373, 141993, 138967, 142280, 153880,\n",
              "       140178, 141453, 145140, 138307, 143343, 138525, 140673])"
            ]
          },
          "metadata": {},
          "execution_count": 48
        }
      ]
    },
    {
      "cell_type": "code",
      "source": [
        "np.unique(y,return_counts = True)"
      ],
      "metadata": {
        "colab": {
          "base_uri": "https://localhost:8080/"
        },
        "id": "y-eCQhyk48Sq",
        "outputId": "2ecf2589-2f0d-4de5-8f13-030e40c17b60"
      },
      "execution_count": null,
      "outputs": [
        {
          "output_type": "execute_result",
          "data": {
            "text/plain": [
              "(array([0, 1], dtype=int32), array([1489,  511]))"
            ]
          },
          "metadata": {},
          "execution_count": 49
        }
      ]
    },
    {
      "cell_type": "code",
      "source": [
        "#FINAL VISUALISATION\n",
        "plt.figure(figsize = (7,5))\n",
        "for i in range(k):\n",
        "  plt.scatter(x[y == i,0],x[y == i,1],label = f'Cluster {i}')\n",
        "plt.scatter(model.cluster_centers_[:,0],model.cluster_centers_[:,1],s = 300,c = 'yellow',\n",
        "            label = 'Centroids')\n",
        "plt.legend()"
      ],
      "metadata": {
        "colab": {
          "base_uri": "https://localhost:8080/",
          "height": 337
        },
        "id": "XHsVyNfA5EWR",
        "outputId": "5a093852-c32d-4e73-f11d-169bda146c28"
      },
      "execution_count": null,
      "outputs": [
        {
          "output_type": "execute_result",
          "data": {
            "text/plain": [
              "<matplotlib.legend.Legend at 0x7faffb0be2d0>"
            ]
          },
          "metadata": {},
          "execution_count": 50
        },
        {
          "output_type": "display_data",
          "data": {
            "text/plain": [
              "<Figure size 504x360 with 1 Axes>"
            ],
            "image/png": "[encoded data removed]"
          },
          "metadata": {
            "needs_background": "light"
          }
        }
      ]
    }
  ]
}